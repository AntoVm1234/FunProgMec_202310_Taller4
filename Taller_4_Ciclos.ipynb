{
 "cells": [
  {
   "cell_type": "markdown",
   "id": "66beb5a1",
   "metadata": {},
   "source": [
    "# Fundamentos de Programación para Ingeniería Mecánica\n",
    "## UPB Montería - 202310\n",
    "### Taller 4: Ciclos\n",
    "- Docente: Miguel Ortiz (miguel.ortizp@upb.edu.co)"
   ]
  },
  {
   "cell_type": "markdown",
   "id": "b4381f55",
   "metadata": {},
   "source": [
    "Datos del Estudiante:\n",
    "- Nombre:\n",
    "- ID:\n",
    "- email:"
   ]
  },
  {
   "cell_type": "markdown",
   "id": "433f35a0",
   "metadata": {},
   "source": [
    "Resuelva los siguientes ejercicios utilizando estructuras cíclicas y condicionales."
   ]
  },
  {
   "cell_type": "markdown",
   "id": "aead929b",
   "metadata": {},
   "source": [
    "### Problema 1: Suma de Elementos (30xp)\n",
    "\n",
    "Indique cuál de los dos números ingresados por el usuario tiene una suma de dígitos mayor y la diferencia de estas sumas. Si las sumas de los dígitos son iguales, infórmelo al usuario. \n",
    "\n",
    "**Ejemplo:**\n",
    "\n",
    "```\n",
    "Ingrese el primer número: 23672646\n",
    "Ingrese el segundo número: 12653686\n",
    "La suma de los elementos de la lista 2 es mayor que la suma de los elementos de la lista 1 en 1 unidades.\n",
    "```\n",
    "\n",
    "**Recomendación:** pruebe su algoritmo con listas de prueba:\n",
    "- `lst_1`: lista que representa el primer número. Por ejemplo: dígitos del número de su documento de identidad\n",
    "- `lst_2`: lista que representa el segundo número. Por ejemplo: dígitos del número de su id\n",
    "\n",
    "**Nota:** para leer un número ingresado por el usuario y convertirlo en lista puede utilizar las siguientes instrucciones:\n",
    "\n",
    "```python\n",
    "num = input('Número: ')\n",
    "lst = [int(x) for x in num]\n",
    "```"
   ]
  },
  {
   "cell_type": "code",
   "execution_count": 54,
   "id": "46b47e9b",
   "metadata": {},
   "outputs": [
    {
     "name": "stdout",
     "output_type": "stream",
     "text": [
      "Ingrese el primer número: 23672646\n",
      "Ingrese el segundo número: 12653686\n",
      "La suma de los elementos de la lista 2 es mayor que la suma de los elementos de la lista 1 en 1 unidades.\n"
     ]
    }
   ],
   "source": [
    "#lst_1 = [1, 0, 6, 5, 6, 3, 6, 0, 8, 2]\n",
    "#lst_2 = [3, 9, 1, 8, 3, 1]\n",
    "\n",
    "num_1 = input('Ingrese el primer número: ')\n",
    "lst_1 = [int(x) for x in num_1]\n",
    "\n",
    "num_2 = input('Ingrese el segundo número: ')\n",
    "lst_2 = [int(x) for x in num_2]\n",
    "\n",
    "sum_1 = 0\n",
    "sum_2 = 0\n",
    "\n",
    "for element in lst_1:\n",
    "    sum_1 += element\n",
    "for element in lst_2:\n",
    "    sum_2 += element\n",
    "    \n",
    "if sum_1 > sum_2:\n",
    "    diff = sum_1 - sum_2\n",
    "    print('La suma de los dígitos del primer número es mayor que la suma de los dígitos del segundo número en', diff, 'unidades.')\n",
    "elif sum_2 > sum_1:\n",
    "    diff = sum_2 - sum_1\n",
    "    print('La suma de los elementos de la lista 2 es mayor que la suma de los elementos de la lista 1 en', diff, 'unidades.')\n",
    "else:\n",
    "    print('La suma de los elementos de ambas listas es igual.')"
   ]
  },
  {
   "cell_type": "markdown",
   "id": "986a4945",
   "metadata": {},
   "source": [
    "### Problema 2: Suma Objetivo (50xp)\n",
    "\n",
    "Indique si la suma de los dígitos de un número de verificación alcanza un valor objetivo. Si obtiene el valor objetivo antes de finalizar el recorrido por todos los dígitos del número, indique la iteración en la que se obtuvo este valor. Tenga en cuenta que tanto el valor objetivo como el número de verificación son ingresados por el usuario. En cualquiera de los casos, muestre el resultado obtenido de la suma de los dígitos.\n",
    "\n",
    "**Ejemplo:**\n",
    "```\n",
    "Ingrese número de suma objetivo: 15\n",
    "Ingrese número para validar suma de dígitos: 1234562\n",
    "Suma obtenida en iteración 5 de 7\n",
    "Resultado obtenido: 15\n",
    "Alcanzó el valor objetivo.\n",
    "```\n",
    "\n",
    "**Recomendación:** pruebe su algoritmo con números y listas de prueba:\n",
    "- `n_obj`: valor objetivo\n",
    "- `lst`: lista que representa el número de verificación. Por ejemplo: dígitos del número de su id\n",
    "\n",
    "**Nota:** para leer un número ingresado por el usuario y convertirlo en lista puede utilizar las siguientes instrucciones:\n",
    "\n",
    "```python\n",
    "num = input('Número: ')\n",
    "lst = [int(x) for x in num]\n",
    "```"
   ]
  },
  {
   "cell_type": "code",
   "execution_count": 51,
   "id": "895f4399",
   "metadata": {},
   "outputs": [
    {
     "name": "stdout",
     "output_type": "stream",
     "text": [
      "Ingrese número de suma objetivo: 15\n",
      "Ingrese número para validar suma de dígitos: 1234562\n",
      "Suma obtenida en iteración 5 de 7\n",
      "Resultado obtenido: 15\n",
      "Alcanzó el valor objetivo.\n"
     ]
    }
   ],
   "source": [
    "#n_obj = 20\n",
    "#lst = [3, 9, 1, 8, 3, 1]\n",
    "\n",
    "n_obj = int(input('Ingrese número de suma objetivo: '))\n",
    "num = input('Ingrese número para validar suma de dígitos: ')\n",
    "lst = [int(x) for x in num]\n",
    "\n",
    "my_sum = 0\n",
    "for i in range(len(lst)):\n",
    "    my_sum += lst[i]\n",
    "    if my_sum >= n_obj:\n",
    "        print(\"Suma obtenida en iteración\", i + 1, 'de', len(lst))\n",
    "        break\n",
    "\n",
    "print(\"Resultado obtenido:\", my_sum)\n",
    "if my_sum >= n_obj:\n",
    "    print(\"Alcanzó el valor objetivo.\")\n",
    "else:\n",
    "    print(\"No Alcanzó el valor objetivo.\")"
   ]
  },
  {
   "cell_type": "markdown",
   "id": "0b532b9b",
   "metadata": {},
   "source": [
    "### Problema 3: Dígito Mayor (40xp)\n",
    "\n",
    "Indique el dígito de mayor valor y su posición en un número ingresado por el usuario. En caso de que el dígito mayor se repita, se debe retornar el índice del primero de ellos que fue encontrado. \n",
    "\n",
    "**Ejemplo:**\n",
    "\n",
    "```\n",
    "Ingrese número: 123753569054\n",
    "El dígito mayor de la lista es 9\n",
    "El número se encontró en la posición 8\n",
    "```\n",
    "\n",
    "**Recomendación:** pruebe su algoritmo con listas de prueba:\n",
    "- `lst`: lista que representa el número a evaluar. Por ejemplo: dígitos del número de su documento de identidad\n",
    "\n",
    "**Nota:** para leer un número ingresado por el usuario y convertirlo en lista puede utilizar las siguientes instrucciones:\n",
    "\n",
    "```python\n",
    "num = input('Número: ')\n",
    "lst = [int(x) for x in num]\n",
    "```"
   ]
  },
  {
   "cell_type": "code",
   "execution_count": 52,
   "id": "9159f388",
   "metadata": {
    "scrolled": true
   },
   "outputs": [
    {
     "name": "stdout",
     "output_type": "stream",
     "text": [
      "Ingrese número: 123753569054\n",
      "El dígito mayor de la lista es 9\n",
      "El número se encontró en la posición 8\n"
     ]
    }
   ],
   "source": [
    "#lst = [1, 0, 6, 5, 6, 3, 6, 0, 8, 2]\n",
    "num = input('Ingrese número: ')\n",
    "lst = [int(x) for x in num]\n",
    "\n",
    "max_num = lst[0]\n",
    "index = 0\n",
    "for i in range(len(lst)):\n",
    "    current = lst[i]\n",
    "    if current > max_num:\n",
    "        max_num = current\n",
    "        index = i\n",
    "\n",
    "print(\"El dígito mayor de la lista es\", max_num)\n",
    "print(\"El número se encontró en la posición\", index)"
   ]
  },
  {
   "cell_type": "markdown",
   "id": "03af9108",
   "metadata": {},
   "source": [
    "### Problema 4: Valores que coinciden (50xp)\n",
    "\n",
    "Indique las posiciones (índices) en los cuales se encuentran los mismos valores de los dígitos en dos números ingresados por el usuario. El algoritmo debe verificar que los números tengan la misma longitud (igual número de dígitos). Si ninguno de los dígitos de los números coincide, también debe informarlo al usuario. \n",
    "\n",
    "**Ejemplo:**\n",
    "\n",
    "```\n",
    "Ingrese el primer número: 124646272\n",
    "Ingrese el segundo número: 354849136\n",
    "Los números tienen 2 dígitos(s) en común en la(s) posición(es): [2, 4]\n",
    "```\n",
    "\n",
    "**Recomendación:** pruebe su algoritmo con listas de prueba:\n",
    "- `lst_1`: lista que representa el primer número. \n",
    "- `lst_2`: lista que representa el segundo número. \n",
    "\n",
    "**Nota:** para leer un número ingresado por el usuario y convertirlo en lista puede utilizar las siguientes instrucciones:\n",
    "\n",
    "```python\n",
    "num = input('Número: ')\n",
    "lst = [int(x) for x in num]\n",
    "```"
   ]
  },
  {
   "cell_type": "code",
   "execution_count": 53,
   "id": "85469377",
   "metadata": {},
   "outputs": [
    {
     "name": "stdout",
     "output_type": "stream",
     "text": [
      "Ingrese el primer número: 124646272\n",
      "Ingrese el segundo número: 354849136\n",
      "Los números tienen 2 dígitos(s) en común en la(s) posición(es): [2, 4]\n"
     ]
    }
   ],
   "source": [
    "#lst_1 = [3, 9, 1, 8, 3, 1]\n",
    "#lst_2 = [1, 0, 1, 5, 3, 3]\n",
    "\n",
    "num_1 = input('Ingrese el primer número: ')\n",
    "lst_1 = [int(x) for x in num_1]\n",
    "\n",
    "num_2 = input('Ingrese el segundo número: ')\n",
    "lst_2 = [int(x) for x in num_2]\n",
    "\n",
    "if len(lst_1) != len(lst_2):\n",
    "    print(\"Los números son de tamaños diferentes.\")\n",
    "else:\n",
    "    indexes = []\n",
    "    for i in range(len(lst_1)):\n",
    "        if lst_1[i] == lst_2[i]:\n",
    "            indexes.append(i)\n",
    "    \n",
    "    if len(indexes) == 0:\n",
    "        print(\"Ningún dígito de los números coincide en posición.\")\n",
    "    else:\n",
    "        print(\"Los números tienen\", len(indexes), \"dígitos(s) en común en la(s) posición(es):\", indexes)"
   ]
  },
  {
   "cell_type": "code",
   "execution_count": null,
   "id": "fdf35177",
   "metadata": {},
   "outputs": [],
   "source": []
  }
 ],
 "metadata": {
  "kernelspec": {
   "display_name": "Python 3 (ipykernel)",
   "language": "python",
   "name": "python3"
  },
  "language_info": {
   "codemirror_mode": {
    "name": "ipython",
    "version": 3
   },
   "file_extension": ".py",
   "mimetype": "text/x-python",
   "name": "python",
   "nbconvert_exporter": "python",
   "pygments_lexer": "ipython3",
   "version": "3.10.6"
  }
 },
 "nbformat": 4,
 "nbformat_minor": 5
}
